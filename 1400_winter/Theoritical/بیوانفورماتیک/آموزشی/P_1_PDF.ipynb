{
  "nbformat": 4,
  "nbformat_minor": 0,
  "metadata": {
    "colab": {
      "name": "P_1-PDF.ipynb",
      "provenance": [],
      "collapsed_sections": []
    },
    "kernelspec": {
      "display_name": "Python 3",
      "name": "python3"
    }
  },
  "cells": [
    {
      "cell_type": "markdown",
      "metadata": {
        "id": "3ISqvxIM7Pf6"
      },
      "source": [
        "# **Project 1**"
      ]
    },
    {
      "cell_type": "markdown",
      "metadata": {
        "id": "MjezkIn47Ttw"
      },
      "source": [
        "## 1.1 Bisection Method\n"
      ]
    },
    {
      "cell_type": "code",
      "metadata": {
        "id": "4D7UZqNa7Mq-"
      },
      "source": [
        "def root(g, e, a, b, i):\n",
        "#g is the function, e is epsilon, a-b is the interval, i is the beginning number of iterations (0)\n",
        "  i = i+1\n",
        "  c = (a+b)/2\n",
        "  if (g(a))*(g(b)) > 0:\n",
        "    #both ends of the interval have the same sign\n",
        "    print(\"There is no gaurantee there is a root in this interval\")\n",
        "  elif g(a) == 0:\n",
        "    print(i)\n",
        "    return a\n",
        "  elif g(b) == 0:\n",
        "    print(i)\n",
        "    return b\n",
        "  elif g(c) == 0:\n",
        "    print(i)\n",
        "    return c\n",
        "  elif (g(a))*(g(c)) < 0:\n",
        "    if abs(g(c)) < e:\n",
        "      print(i)\n",
        "      return c\n",
        "    else:\n",
        "      return root(g, e, a, c,i)\n",
        "  elif (g(c))*(g(b)) < 0:\n",
        "    if abs(g(c)) < e:\n",
        "      print(i)\n",
        "      return c\n",
        "    else:\n",
        "      return root(g, e, c, b,i)\n"
      ],
      "execution_count": null,
      "outputs": []
    },
    {
      "cell_type": "code",
      "metadata": {
        "id": "Yqr3o0Fp7_d7"
      },
      "source": [
        "import math\n",
        "def function(x):\n",
        "  return math.e**(x**2)\n",
        "\n",
        "def derivative(x):\n",
        "  return 2*x*math.e**(x**2)\n",
        "\n",
        "def second_derivative(x):\n",
        "  return 4*(pow(x,2))*(pow(math.e,(pow(x,2)))) + 2*(pow(math.e,(pow(x,2))))\n"
      ],
      "execution_count": null,
      "outputs": []
    },
    {
      "cell_type": "code",
      "metadata": {
        "id": "ogWQM6uIAbLv"
      },
      "source": [
        "def bruteForce(a,b,deriv,tol, numit):\n",
        "#numit is the number of points checked on the first iteration and is doubled after each iteratio\n",
        "  intervalSize = (b-a)/(numit-1)\n",
        "  for i in range(numit):\n",
        "    if deriv(a+i*intervalSize) < tol and deriv(a+i*intervalSize) > -1*tol :\n",
        "      print(math.log(numit, 2))\n",
        "      return a+i*intervalSize\n",
        "  numit *= 2\n",
        "  return bruteForce(a,b,deriv,tol,numit)"
      ],
      "execution_count": null,
      "outputs": []
    },
    {
      "cell_type": "code",
      "metadata": {
        "id": "ybRIN-MHe2fo"
      },
      "source": [
        "def brute_Force(a,b,deriv,tol, numit, iter):\n",
        "#numit is the number of points checked on the first iteration and is doubled after each iteratio\n",
        "  intervalSize = (b-a)/(numit-1)\n",
        "  for i in range(numit):\n",
        "    iter += 1\n",
        "    if abs(deriv(a+i*intervalSize)) < tol:\n",
        "      print(iter)\n",
        "      return a+i*intervalSize\n",
        "    \n",
        "  numit *= 2\n",
        "  return brute_Force(a,b,deriv,tol,numit, iter)"
      ],
      "execution_count": null,
      "outputs": []
    },
    {
      "cell_type": "markdown",
      "metadata": {
        "id": "IRJDpvYJGg-d"
      },
      "source": [
        "Based on this data the bisection method is easily the more efficient function, the highest number of iterations it took was 10, versus the brute force method, when faced with the same tolerance and interval size took thousands of iterations. "
      ]
    },
    {
      "cell_type": "markdown",
      "metadata": {
        "id": "3oLwwMbZHbFs"
      },
      "source": [
        "# 1.2 Gradient Descent"
      ]
    },
    {
      "cell_type": "markdown",
      "metadata": {
        "id": "8J3gOlftpyOY"
      },
      "source": [
        "## 1.2.1"
      ]
    },
    {
      "cell_type": "code",
      "metadata": {
        "id": "_MIJQbzfuY8N"
      },
      "source": [
        "def gradient_descent(f, deriv_f, x0, tol, L, it):\n",
        "  it += 1\n",
        "  alpha = 1/L\n",
        "  x_k1 = x0 - alpha * deriv_f(x0)\n",
        "  \n",
        "  \n",
        "  if abs(deriv_f(x_k1)) < tol :\n",
        "    print(\"The number of iterations is: \" + str(it))\n",
        "    return x_k1\n",
        "    \n",
        "  return  gradient_descent(f, deriv_f, x_k1, tol, L, it)"
      ],
      "execution_count": null,
      "outputs": []
    },
    {
      "cell_type": "markdown",
      "metadata": {
        "id": "OO5P77LJtvX8"
      },
      "source": [
        "## 1.2.2"
      ]
    },
    {
      "cell_type": "code",
      "metadata": {
        "colab": {
          "base_uri": "https://localhost:8080/"
        },
        "id": "cEwqpsyku4d1",
        "outputId": "325ac8e0-3070-4dd7-ea06-530f76a11530"
      },
      "source": [
        "gradient_descent(function, derivative, -0.5, 0.0005, 4, 0)"
      ],
      "execution_count": null,
      "outputs": [
        {
          "output_type": "stream",
          "text": [
            "The number of iterations is: 11\n"
          ],
          "name": "stdout"
        },
        {
          "output_type": "execute_result",
          "data": {
            "text/plain": [
              "-0.00016742218381190065"
            ]
          },
          "metadata": {
            "tags": []
          },
          "execution_count": 196
        }
      ]
    },
    {
      "cell_type": "code",
      "metadata": {
        "colab": {
          "base_uri": "https://localhost:8080/"
        },
        "id": "gKxpI2NjS78R",
        "outputId": "f210d9e7-2193-403c-ac65-412407669b07"
      },
      "source": [
        "gradient_descent(function, derivative, -1, 0.0005, 4, 0)\n"
      ],
      "execution_count": null,
      "outputs": [
        {
          "output_type": "stream",
          "text": [
            "The number of iterations is: 12\n"
          ],
          "name": "stdout"
        },
        {
          "output_type": "execute_result",
          "data": {
            "text/plain": [
              "0.00014642970147504768"
            ]
          },
          "metadata": {
            "tags": []
          },
          "execution_count": 197
        }
      ]
    },
    {
      "cell_type": "markdown",
      "metadata": {
        "id": "4JZhRALit57b"
      },
      "source": [
        "## 1.2.3"
      ]
    },
    {
      "cell_type": "code",
      "metadata": {
        "id": "mHByh-dRG_HM"
      },
      "source": [
        "def dynamic_gradient_descent(deriv_f, x0, tol, alpha, it):\n",
        "  it += 1\n",
        "  x_k1 = x0 - alpha * deriv_f(x0)\n",
        "  if(abs(deriv_f(x_k1)) < tol):\n",
        "    print(it)\n",
        "    return x_k1\n",
        "  alpha = ((x_k1 - x0)*(deriv_f(x_k1) - deriv_f(x0)))/(deriv_f(x_k1) - deriv_f(x0))**2\n",
        "  return  dynamic_gradient_descent(deriv_f, x_k1, tol, alpha, it)"
      ],
      "execution_count": null,
      "outputs": []
    },
    {
      "cell_type": "markdown",
      "metadata": {
        "id": "POqKhsuAwYiz"
      },
      "source": [
        "## 1.2.4"
      ]
    },
    {
      "cell_type": "code",
      "metadata": {
        "colab": {
          "base_uri": "https://localhost:8080/"
        },
        "id": "XQ706EWe0ehv",
        "outputId": "5b927ca0-775c-43a6-b032-0ef202b6d9e6"
      },
      "source": [
        "dynamic_gradient_descent(derivative, 0.0005, 0.0005, 1/4, 0)"
      ],
      "execution_count": null,
      "outputs": [
        {
          "output_type": "stream",
          "text": [
            "1\n"
          ],
          "name": "stdout"
        },
        {
          "output_type": "execute_result",
          "data": {
            "text/plain": [
              "0.0002499999374999922"
            ]
          },
          "metadata": {
            "tags": []
          },
          "execution_count": 158
        }
      ]
    },
    {
      "cell_type": "code",
      "metadata": {
        "colab": {
          "base_uri": "https://localhost:8080/"
        },
        "id": "KefXhgIUTFJB",
        "outputId": "2db930d4-144b-41af-fa22-7b55e4d887f0"
      },
      "source": [
        "dynamic_gradient_descent(derivative, -0.5, 0.0005, 1/4, 0)"
      ],
      "execution_count": null,
      "outputs": [
        {
          "output_type": "stream",
          "text": [
            "4\n"
          ],
          "name": "stdout"
        },
        {
          "output_type": "execute_result",
          "data": {
            "text/plain": [
              "-4.931233889874601e-06"
            ]
          },
          "metadata": {
            "tags": []
          },
          "execution_count": 198
        }
      ]
    },
    {
      "cell_type": "code",
      "metadata": {
        "colab": {
          "base_uri": "https://localhost:8080/"
        },
        "id": "stLvTuBYTE0q",
        "outputId": "eb9a4c85-620a-44c7-ade3-f687a64f811a"
      },
      "source": [
        "dynamic_gradient_descent(derivative, -1, 0.0005, 1/4, 0)"
      ],
      "execution_count": null,
      "outputs": [
        {
          "output_type": "stream",
          "text": [
            "5\n"
          ],
          "name": "stdout"
        },
        {
          "output_type": "execute_result",
          "data": {
            "text/plain": [
              "1.1349345632955324e-06"
            ]
          },
          "metadata": {
            "tags": []
          },
          "execution_count": 199
        }
      ]
    },
    {
      "cell_type": "markdown",
      "metadata": {
        "id": "GHSC6q670C61"
      },
      "source": [
        "# **1.3 Gradient Descent in Two Dimensions**"
      ]
    },
    {
      "cell_type": "markdown",
      "metadata": {
        "id": "iXhl_GSoEom8"
      },
      "source": [
        "# **1.3.1**"
      ]
    },
    {
      "cell_type": "code",
      "metadata": {
        "id": "jNm23eTJ0GD0"
      },
      "source": [
        "import numpy as np\n",
        "\n",
        "from numpy import linalg as LA\n",
        "#Gradient Descnet function for two dimentions\n",
        "def gradient_descent_two_dimentions(partial_derivetive_x0, partial_derivetive_x1, tol, alpha, x0, iter):\n",
        "  iter += 1 \n",
        "  gradient_vector = np.array([(partial_derivetive_x0(x0)), (partial_derivetive_x1(x0))])\n",
        "  x_k1 = x0 - np.dot(alpha, gradient_vector)\n",
        "  gradient_vector_1 = np.array([(partial_derivetive_x0(x_k1)), (partial_derivetive_x1(x_k1))])\n",
        "  if(abs(math.sqrt(pow(gradient_vector_1[0],2) + pow(gradient_vector_1[1],2))) < tol):\n",
        "    print(iter)\n",
        "    return x_k1\n",
        "  nominator = np.dot(np.subtract(x_k1, x0), np.subtract(gradient_vector_1 , gradient_vector))\n",
        "  denominator = pow(LA.norm(np.subtract(gradient_vector, gradient_vector_1)), 2)\n",
        "  alpha = nominator / denominator \n",
        "  return  gradient_descent_two_dimentions(partial_derivetive_x0, partial_derivetive_x1, tol, alpha, x_k1, iter)"
      ],
      "execution_count": null,
      "outputs": []
    },
    {
      "cell_type": "code",
      "metadata": {
        "id": "-YXFeRYA0Scn"
      },
      "source": [
        "def test_function(input):\n",
        "  return input[0]**2 + input[0]*input[1] + input[1]**2\n",
        "\n",
        "def partial_deriv0(input):\n",
        "  return 2*input[0] + input[1]\n",
        "\n",
        "def partial_deriv1(input):\n",
        "  return input[0] + 2*input[1]"
      ],
      "execution_count": null,
      "outputs": []
    },
    {
      "cell_type": "markdown",
      "metadata": {
        "id": "OsqdOX9gIKCL"
      },
      "source": [
        "# **1.3.2**"
      ]
    },
    {
      "cell_type": "code",
      "metadata": {
        "colab": {
          "base_uri": "https://localhost:8080/"
        },
        "id": "AhKZ7FnyDpiQ",
        "outputId": "85956193-37be-4e72-96cb-136accc91693"
      },
      "source": [
        "x0 = np.array([1,3])\n",
        "gradient_descent_two_dimentions(partial_deriv0, partial_deriv1, 0.2, 0.5, x0, 0)"
      ],
      "execution_count": null,
      "outputs": [
        {
          "output_type": "stream",
          "text": [
            "4\n"
          ],
          "name": "stdout"
        },
        {
          "output_type": "execute_result",
          "data": {
            "text/plain": [
              "array([-0.00390571,  0.00405309])"
            ]
          },
          "metadata": {
            "tags": []
          },
          "execution_count": 191
        }
      ]
    },
    {
      "cell_type": "code",
      "metadata": {
        "colab": {
          "base_uri": "https://localhost:8080/"
        },
        "id": "o6Sk-nclPMNn",
        "outputId": "6199a2b1-7b3e-4af3-a723-ee24beca361b"
      },
      "source": [
        "x0 = np.array([2,9])\n",
        "gradient_descent_two_dimentions(partial_deriv0, partial_deriv1, 0.2, 0.5, x0, 0)"
      ],
      "execution_count": null,
      "outputs": [
        {
          "output_type": "stream",
          "text": [
            "4\n"
          ],
          "name": "stdout"
        },
        {
          "output_type": "execute_result",
          "data": {
            "text/plain": [
              "array([-0.0215838 ,  0.02262578])"
            ]
          },
          "metadata": {
            "tags": []
          },
          "execution_count": 192
        }
      ]
    },
    {
      "cell_type": "code",
      "metadata": {
        "colab": {
          "base_uri": "https://localhost:8080/"
        },
        "id": "dXIYZ9pKPL-q",
        "outputId": "02c93df8-1b4d-4c30-9e1c-abb66f1db06e"
      },
      "source": [
        "x0 = np.array([6,4])\n",
        "gradient_descent_two_dimentions(partial_deriv0, partial_deriv1, 0.2, 0.5, x0, 0)"
      ],
      "execution_count": null,
      "outputs": [
        {
          "output_type": "stream",
          "text": [
            "4\n"
          ],
          "name": "stdout"
        },
        {
          "output_type": "execute_result",
          "data": {
            "text/plain": [
              "array([ 0.00065973, -0.00065002])"
            ]
          },
          "metadata": {
            "tags": []
          },
          "execution_count": 193
        }
      ]
    },
    {
      "cell_type": "code",
      "metadata": {
        "colab": {
          "base_uri": "https://localhost:8080/"
        },
        "id": "8C3NKTMpPUk1",
        "outputId": "4af39241-70bd-455d-e28b-ac5b78bec738"
      },
      "source": [
        "x0 = np.array([10,14])\n",
        "gradient_descent_two_dimentions(partial_deriv0, partial_deriv1, 0.2, 0.5, x0, 0)"
      ],
      "execution_count": null,
      "outputs": [
        {
          "output_type": "stream",
          "text": [
            "4\n"
          ],
          "name": "stdout"
        },
        {
          "output_type": "execute_result",
          "data": {
            "text/plain": [
              "array([-0.00090543,  0.00091668])"
            ]
          },
          "metadata": {
            "tags": []
          },
          "execution_count": 194
        }
      ]
    },
    {
      "cell_type": "markdown",
      "metadata": {
        "id": "70cMaH9rIdmM"
      },
      "source": [
        "# **Optimization**"
      ]
    },
    {
      "cell_type": "markdown",
      "metadata": {
        "id": "_SfzWd0OJG6k"
      },
      "source": [
        "## **2.1 Epidemics Control**\n",
        "\n"
      ]
    },
    {
      "cell_type": "code",
      "metadata": {
        "id": "7waR_imL-QZv"
      },
      "source": [
        "def daily_new_cases(I):\n",
        "  return (0.9*(1-(I/17.3))-0.5)*I"
      ],
      "execution_count": null,
      "outputs": []
    },
    {
      "cell_type": "code",
      "metadata": {
        "colab": {
          "base_uri": "https://localhost:8080/"
        },
        "id": "VBG6SJ7IJx7a",
        "outputId": "cc7bba09-cfd8-4e02-94fb-8057b33443a8"
      },
      "source": [
        "dynamic_gradient_descent(daily_new_cases, 6, 0.2, -0.5, 0)"
      ],
      "execution_count": null,
      "outputs": [
        {
          "output_type": "stream",
          "text": [
            "3\n"
          ],
          "name": "stdout"
        },
        {
          "output_type": "execute_result",
          "data": {
            "text/plain": [
              "7.578430431893377"
            ]
          },
          "metadata": {
            "tags": []
          },
          "execution_count": 184
        }
      ]
    },
    {
      "cell_type": "markdown",
      "metadata": {
        "id": "ictiQBYJJHoL"
      },
      "source": [
        "# **2.2 Shape Optimization**"
      ]
    },
    {
      "cell_type": "code",
      "metadata": {
        "id": "ar4N5e5mJQ-6"
      },
      "source": [
        "# The material used would be 2000/(W) + 2*L*W + 2000/L\n",
        "#L and W are in centimeters\n",
        "# Vector (L,W)\n",
        "def partial_L(input):\n",
        "  return 2*input[1] - 2000/pow(input[0],2)\n",
        "\n",
        "def partial_W(input):\n",
        "  return 2*input[0] - 2000/pow(input[1],2)"
      ],
      "execution_count": null,
      "outputs": []
    },
    {
      "cell_type": "code",
      "metadata": {
        "colab": {
          "base_uri": "https://localhost:8080/"
        },
        "id": "7Eun0N2UNxKl",
        "outputId": "8e443947-3fcb-4e32-839e-fd2b299114fb"
      },
      "source": [
        "starting_point = np.array([1, 1])\n",
        "gradient_descent_two_dimentions(partial_L, partial_W, 0.2, 0.05, starting_point, 0)"
      ],
      "execution_count": null,
      "outputs": [
        {
          "output_type": "stream",
          "text": [
            "63\n"
          ],
          "name": "stdout"
        },
        {
          "output_type": "execute_result",
          "data": {
            "text/plain": [
              "array([9.99692586, 9.99692586])"
            ]
          },
          "metadata": {
            "tags": []
          },
          "execution_count": 190
        }
      ]
    },
    {
      "cell_type": "markdown",
      "metadata": {
        "id": "qSDs_iB3O2yH"
      },
      "source": [
        "Therefore the optimized lengths are 10, 10, 10"
      ]
    }
  ]
}