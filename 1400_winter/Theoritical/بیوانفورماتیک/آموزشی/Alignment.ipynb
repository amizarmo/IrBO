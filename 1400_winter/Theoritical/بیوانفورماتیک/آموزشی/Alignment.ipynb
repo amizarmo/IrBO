{
  "metadata": {
    "language_info": {
      "codemirror_mode": {
        "name": "ipython",
        "version": 3
      },
      "file_extension": ".py",
      "mimetype": "text/x-python",
      "name": "python",
      "nbconvert_exporter": "python",
      "pygments_lexer": "ipython3",
      "version": "3.9.0-final"
    },
    "orig_nbformat": 2,
    "kernelspec": {
      "name": "python3",
      "display_name": "Python 3.9.0 64-bit",
      "metadata": {
        "interpreter": {
          "hash": "2fb26068bd0d1e0f8e0cb0471b51822d32bcef174b6ed9ec0f79e5a512585ab8"
        }
      }
    },
    "colab": {
      "name": "Alignment.ipynb",
      "provenance": []
    }
  },
  "nbformat": 4,
  "nbformat_minor": 0,
  "cells": [
    {
      "source": [
        "<h1><center>Practical: Sequence alignment</center></h1>\n",
        "\n",
        "In this practical you will implement the algorithm for global sequence alignment in Python. We limit ourselves to sequences of DNA nucleotides: A, C, T, G. \n",
        "\n",
        "<h2>Basic Needleman-Wunsch algorithm</h2>\n",
        "\n",
        "- Implement the basic Needleman-Wunsch algorithm from the reader in Python. Give the file with your program the name nw1.py (or insert it in the code block below). Your program should read two sequences of length n and m from an input file. This can be done by the following lines of Python code (assuming the input file is input.txt):\n"
      ],
      "cell_type": "markdown",
      "metadata": {
        "id": "JW5rVi6ksiS4"
      }
    },
    {
      "cell_type": "code",
      "execution_count": null,
      "metadata": {
        "id": "kTcSAJtWsiS6"
      },
      "outputs": [],
      "source": [
        "file = open('input.txt') # open input file\n",
        "\n",
        "s = file.readline() # readline 1 of the input\n",
        "t = file.readline() # readline 2 of the input\n",
        "\n",
        "file.close() # close file\n",
        "\n",
        "lens = len(s) # length string s\n",
        "lent = len(t) # length string t\n",
        "\n",
        "# Here comes your code\n",
        "\n",
        "# The result should be a matrix $D$ containing the costs of optimal alignment"
      ]
    },
    {
      "source": [
        "The scoring matrix w(ai , bj) has the form:\n",
        "\n",
        "![Figure 1](data:image/png;base64,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)\n",
        "\n",
        "That is, the costs of a match are p and of a mismatch q, e.g., w(A, A) = p, w(A, T) = q, etc. Furthermore, the gap penalty is g. The parameters p, q and g should be variables in your algorithm, to be initialized at the start of your Python-program. The result of your program is a (n + 1) × (m + 1)- dimensional matrix D containing the costs of optimal alignment.\n",
        "\n",
        "- Inspect the file nw_test1.txt. This file contains the two sequences: \n",
        "\n",
        "GGAATGG ATG\n",
        "\n",
        "Run your program nw1.py in Python with nw_test1.txt as input, and the following values of the parameters: p = 0, q = 4, g = 5."
      ],
      "cell_type": "markdown",
      "metadata": {
        "id": "o3wekdxLsiS7"
      }
    }
  ]
}